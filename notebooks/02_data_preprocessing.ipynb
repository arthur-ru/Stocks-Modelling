{
 "cells": [
  {
   "cell_type": "markdown",
   "metadata": {},
   "source": [
    "# Data Preprocessing for Financial Data\n",
    "\n",
    "This notebook implements the steps for preprocessing financial data as outlined in the `data_preprocessing.py` script. The process includes:\n",
    "\n",
    "1. Importing necessary libraries.\n",
    "2. Loading data from a CSV file.\n",
    "3. Processing columns and initializing a dictionary for outliers.\n",
    "4. Detecting outliers using the IQR method.\n",
    "\n",
    "## 1. Importing Necessary Libraries\n",
    "\n",
    "```python\n",
    "import pandas as pd\n",
    "import numpy as np\n",
    "```\n",
    "\n",
    "## 2. Loading Data\n",
    "\n",
    "The script loads data from a CSV file `data_stock.csv` located in the `data/raw_data` directory.\n",
    "\n",
    "```python\n",
    "data = pd.read_csv(\"data/raw_data/data_stock.csv\")\n",
    "```\n",
    "\n",
    "## 3. Processing Columns\n",
    "\n",
    "Here we retrieve column names (excluding the date column) and initialize a dictionary to store outliers.\n",
    "\n",
    "```python\n",
    "column_names = data.columns[1:]  # Start from the second column\n",
    "outliers_data = {}\n",
    "```\n",
    "\n",
    "## 4. Detecting Outliers\n",
    "\n",
    "The script uses the Interquartile Range (IQR) method to identify outliers for each column.\n",
    "\n",
    "```python\n",
    "for column_name in column_names:\n",
    "    ticker_data = data[column_name]\n",
    "    # Code for calculating Q1, Q3, and detecting outliers\n",
    "    # Example: Q1 = np.percentile(ticker_data, 25), etc.\n",
    "```\n",
    "\n",
    "## Conclusion\n",
    "\n",
    "After completing these steps, you will have preprocessed the financial data, identifying and handling outliers where necessary. The outliers will be added to a filed called `outliers.csv`."
   ]
  }
 ],
 "metadata": {
  "language_info": {
   "name": "python"
  }
 },
 "nbformat": 4,
 "nbformat_minor": 2
}
