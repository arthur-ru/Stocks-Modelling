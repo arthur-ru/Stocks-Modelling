{
 "cells": [
  {
   "cell_type": "markdown",
   "metadata": {},
   "source": [
    "Avant de commencer, installer \n",
    "yfinance: pip install yfinance\n",
    "matplotlib: pip install maltoplotlib"
   ]
  },
  {
   "cell_type": "code",
   "execution_count": null,
   "metadata": {
    "vscode": {
     "languageId": "plaintext"
    }
   },
   "outputs": [],
   "source": [
    "import finance as yf\n",
    "\n",
    "#Définir ticker\n",
    "sg = '^FCHI'\n",
    "\n",
    "#Récupérer data\n",
    "data =  yf.ticker(sg)\n",
    "\n"
   ]
  }
 ],
 "metadata": {
  "language_info": {
   "name": "python"
  }
 },
 "nbformat": 4,
 "nbformat_minor": 2
}
